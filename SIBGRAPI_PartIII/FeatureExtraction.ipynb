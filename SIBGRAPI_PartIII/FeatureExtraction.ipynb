{
  "nbformat": 4,
  "nbformat_minor": 0,
  "metadata": {
    "colab": {
      "name": "FeatureExtraction.ipynb",
      "provenance": []
    },
    "kernelspec": {
      "name": "python3",
      "display_name": "Python 3"
    },
    "accelerator": "GPU"
  },
  "cells": [
    {
      "cell_type": "markdown",
      "metadata": {
        "id": "pFHWKqoXETFr"
      },
      "source": [
        "# **Feature extraction using pre-trained ResNet50, dimensionality reduction and SVM classification**\n",
        "\n",
        "Before starting the code execution, make the following change: **Ambiente de execução -> Alterar o tipo de ambiente de execução -> GPU**"
      ]
    },
    {
      "cell_type": "code",
      "metadata": {
        "id": "I_6XXIzTEMfl"
      },
      "source": [
        "import numpy as np\n",
        "from PIL import Image\n",
        "\n",
        "from keras.datasets import cifar10\n",
        "from keras.models import Model\n",
        "from tensorflow.keras.applications import resnet50\n",
        "\n",
        "from sklearn.decomposition import PCA\n",
        "from sklearn.svm import SVC\n",
        "from sklearn.metrics import accuracy_score"
      ],
      "execution_count": 7,
      "outputs": []
    },
    {
      "cell_type": "markdown",
      "metadata": {
        "id": "HB6BoYJYFGS6"
      },
      "source": [
        "**lowSampleDataset(X,Y)** function just reduces the number of examples so that the execution is faster in our example!"
      ]
    },
    {
      "cell_type": "code",
      "metadata": {
        "id": "VYDQUnkzFHiU"
      },
      "source": [
        "def lowSampleDataset(X, Y):\n",
        "    perm = np.random.permutation(X.shape[0])\n",
        "    X = X[perm[0 : (int)(X.shape[0] * (5/100))]]\n",
        "    Y = Y[perm[0 : (int)(Y.shape[0] * (5/100))]]\n",
        "    return X, Y"
      ],
      "execution_count": 8,
      "outputs": []
    },
    {
      "cell_type": "markdown",
      "metadata": {
        "id": "QjYuEdJ9FJ2O"
      },
      "source": [
        "**Pre-processing:**\n",
        "\n",
        "1.   Load CIFAR10 dataset\n",
        "2.   Reduce the number of examples\n",
        "1.   Change the resolution of the examples"
      ]
    },
    {
      "cell_type": "code",
      "metadata": {
        "id": "J-rei2LhFObo",
        "colab": {
          "base_uri": "https://localhost:8080/"
        },
        "outputId": "609c165e-87f2-48db-a1ab-d33d3cddc961"
      },
      "source": [
        "print(\"Loading CIFAR10 images ...\")\n",
        "(Xtrain, Ytrain), (Xtest, Ytest) = cifar10.load_data()\n",
        "\n",
        "print('\\tOriginal training set shape: ', Xtrain.shape)\n",
        "print('\\tOriginal testing set shape: ', Xtest.shape)\n",
        "\n",
        "Xtrain, Ytrain = lowSampleDataset(Xtrain, Ytrain)\n",
        "Xtest, Ytest = lowSampleDataset(Xtest, Ytest)\n",
        "\n",
        "X = []\n",
        "for i in range(0, Xtrain.shape[0]):\n",
        "    X.append(np.array(Image.fromarray(Xtrain[i]).resize(size=(224,224))))\n",
        "Xtrain = np.array(X)\n",
        "\n",
        "X = []\n",
        "for i in range(0, Xtest.shape[0]):\n",
        "    X.append(np.array(Image.fromarray(Xtest[i]).resize(size=(224,224))))\n",
        "Xtest = np.array(X)\n",
        "\n",
        "print('\\tTraining set shape: ', Xtrain.shape)\n",
        "print('\\tTesting set shape: ', Xtest.shape)"
      ],
      "execution_count": 9,
      "outputs": [
        {
          "output_type": "stream",
          "name": "stdout",
          "text": [
            "Loading CIFAR10 images ...\n",
            "Downloading data from https://www.cs.toronto.edu/~kriz/cifar-10-python.tar.gz\n",
            "170500096/170498071 [==============================] - 3s 0us/step\n",
            "170508288/170498071 [==============================] - 3s 0us/step\n",
            "\tOriginal training set shape:  (50000, 32, 32, 3)\n",
            "\tOriginal testing set shape:  (10000, 32, 32, 3)\n",
            "\tTraining set shape:  (2500, 224, 224, 3)\n",
            "\tTesting set shape:  (500, 224, 224, 3)\n"
          ]
        }
      ]
    },
    {
      "cell_type": "markdown",
      "metadata": {
        "id": "T-sZohhMFidA"
      },
      "source": [
        "**Feature extraction:**\n",
        "\n",
        "Load the ResNet50 and perform feature extraction using the pre-prediction layer (-2)"
      ]
    },
    {
      "cell_type": "code",
      "metadata": {
        "id": "RbNMdoigFlED",
        "colab": {
          "base_uri": "https://localhost:8080/"
        },
        "outputId": "242dbf21-7bcb-4f05-d562-4094de93e515"
      },
      "source": [
        "print(\"Loading the ResNet50-ImageNet model ...\")\n",
        "model = resnet50.ResNet50(include_top=True, weights='imagenet', input_shape=(224, 224, 3), classes=1000)\n",
        "model = Model(inputs=model.input, outputs=model.get_layer(index=-2).output)\n",
        "#model.summary()\n",
        "\n",
        "prediction = np.array(model.predict(Xtrain))\n",
        "Xtrain = np.reshape(prediction, (prediction.shape[0], prediction.shape[1]))\n",
        "\n",
        "prediction = np.array(model.predict(Xtest))\n",
        "Xtest = np.reshape(prediction, (prediction.shape[0], prediction.shape[1]))\n",
        "\n",
        "print('\\tFeatures training shape: ', Xtrain.shape)\n",
        "print('\\tFeatures testing shape: ', Xtest.shape)"
      ],
      "execution_count": 10,
      "outputs": [
        {
          "output_type": "stream",
          "name": "stdout",
          "text": [
            "Loading the ResNet50-ImageNet model ...\n",
            "Downloading data from https://storage.googleapis.com/tensorflow/keras-applications/resnet/resnet50_weights_tf_dim_ordering_tf_kernels.h5\n",
            "102973440/102967424 [==============================] - 1s 0us/step\n",
            "102981632/102967424 [==============================] - 1s 0us/step\n",
            "\tFeatures training shape:  (2500, 2048)\n",
            "\tFeatures testing shape:  (500, 2048)\n"
          ]
        }
      ]
    },
    {
      "cell_type": "markdown",
      "metadata": {
        "id": "pnShqeTiI8mF"
      },
      "source": [
        "**Dimensionality reduction:**\n",
        "\n",
        "The extracted features have 2048 dimensions. When the dimensionality is high, one solution is to apply some dimensionality reduction technique, such as PCA:"
      ]
    },
    {
      "cell_type": "code",
      "metadata": {
        "id": "NVOY8L-iFwTz",
        "colab": {
          "base_uri": "https://localhost:8080/"
        },
        "outputId": "2b9d616a-53bc-48eb-f042-8d28d76b3d5e"
      },
      "source": [
        "print(\"Dimensionality reduction with PCA ...\")\n",
        "pca = PCA(n_components=256)\n",
        "Xtrain = pca.fit_transform(Xtrain)\n",
        "Xtest = pca.transform(Xtest)\n",
        "\n",
        "print('\\tFeatures training shape: ', Xtrain.shape)\n",
        "print('\\tFeatures testing shape: ', Xtest.shape)"
      ],
      "execution_count": 11,
      "outputs": [
        {
          "output_type": "stream",
          "name": "stdout",
          "text": [
            "Dimensionality reduction with PCA ...\n",
            "\tFeatures training shape:  (2500, 256)\n",
            "\tFeatures testing shape:  (500, 256)\n"
          ]
        }
      ]
    },
    {
      "cell_type": "markdown",
      "metadata": {
        "id": "hfYzRJ5ZJbD3"
      },
      "source": [
        "**Classification:**\n",
        "\n",
        "We can choose any classifier, such as SVM:"
      ]
    },
    {
      "cell_type": "code",
      "metadata": {
        "id": "5iz0dR_7F5zB",
        "colab": {
          "base_uri": "https://localhost:8080/"
        },
        "outputId": "a01122e4-1853-4aef-8e83-8e5b16bc0629"
      },
      "source": [
        "print(\"Classification with Linear SVM ...\")\n",
        "svm = SVC(kernel='linear')\n",
        "svm.fit(Xtrain, np.ravel(Ytrain, order='C'))\n",
        "result = svm.predict(Xtest)\n",
        "\n",
        "acc = accuracy_score(result, np.ravel(Ytest, order='C'))\n",
        "print(\"\\tAccuracy Linear SVM: %0.4f\" % acc)"
      ],
      "execution_count": 12,
      "outputs": [
        {
          "output_type": "stream",
          "name": "stdout",
          "text": [
            "Classification with Linear SVM ...\n",
            "\tAccuracy Linear SVM: 0.7760\n"
          ]
        }
      ]
    }
  ]
}