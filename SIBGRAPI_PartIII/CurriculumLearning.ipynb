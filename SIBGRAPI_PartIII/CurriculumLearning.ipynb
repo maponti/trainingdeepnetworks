{
  "nbformat": 4,
  "nbformat_minor": 0,
  "metadata": {
    "colab": {
      "name": "CurriculumLearning.ipynb",
      "provenance": []
    },
    "kernelspec": {
      "name": "python3",
      "display_name": "Python 3"
    },
    "accelerator": "GPU"
  },
  "cells": [
    {
      "cell_type": "markdown",
      "metadata": {
        "id": "P_iP73y2mCMQ"
      },
      "source": [
        "# Curriculum Learning for instances\n",
        "\n",
        "Before starting the code execution, make the following change: **Ambiente de execução -> Alterar o tipo de ambiente de execução -> GPU**"
      ]
    },
    {
      "cell_type": "code",
      "metadata": {
        "id": "24WOZMWukEmQ"
      },
      "source": [
        "import numpy as np\n",
        "from PIL import Image\n",
        "\n",
        "from keras.models import Model, Sequential\n",
        "from tensorflow.keras.layers import Input, Conv2D, MaxPooling2D, Flatten, Reshape, UpSampling2D, Conv2DTranspose, Dense, AveragePooling2D\n",
        "from tensorflow.keras.models import load_model\n",
        "from keras.datasets import cifar10\n",
        "from tensorflow.keras.utils import to_categorical\n",
        "from tensorflow.keras.optimizers import SGD\n",
        "\n",
        "import matplotlib.pyplot as plt"
      ],
      "execution_count": 1,
      "outputs": []
    },
    {
      "cell_type": "markdown",
      "metadata": {
        "id": "6XMcnDsymP6H"
      },
      "source": [
        "**Parameters definition:**"
      ]
    },
    {
      "cell_type": "code",
      "metadata": {
        "id": "7Nwz3YkPk_HZ"
      },
      "source": [
        "batchSize = 32\n",
        "numberEpochs = 100\n",
        "numberClasses = 10"
      ],
      "execution_count": 2,
      "outputs": []
    },
    {
      "cell_type": "markdown",
      "metadata": {
        "id": "aBny283omTCI"
      },
      "source": [
        "**lowSampleDataset(X,Y)** function just reduces the number of examples so that the execution is faster in our example!"
      ]
    },
    {
      "cell_type": "code",
      "metadata": {
        "id": "q3t85naGkU2L"
      },
      "source": [
        "def lowSampleDataset(X, Y):\n",
        "    perm = np.random.permutation(X.shape[0])\n",
        "    X = X[perm[0 : (int)(X.shape[0] * (5/100))]]\n",
        "    Y = Y[perm[0 : (int)(Y.shape[0] * (5/100))]]\n",
        "    return X, Y"
      ],
      "execution_count": 3,
      "outputs": []
    },
    {
      "cell_type": "markdown",
      "metadata": {
        "id": "Dlb9MhRTmVE6"
      },
      "source": [
        "**Pre-processing:**\n",
        "\n",
        "1.   Load CIFAR10 dataset\n",
        "2.   Reduce the number of examples\n",
        "\n",
        "\n"
      ]
    },
    {
      "cell_type": "code",
      "metadata": {
        "id": "3f8teqaqkYAd",
        "colab": {
          "base_uri": "https://localhost:8080/"
        },
        "outputId": "1a3d4e1a-3778-4c7b-c8c3-fd9c8afb4123"
      },
      "source": [
        "print(\"Loading CIFAR10 images ...\")\n",
        "(Xtrain, Ytrain), (Xtest, Ytest) = cifar10.load_data()\n",
        "\n",
        "#Xtrain, Ytrain = lowSampleDataset(Xtrain, Ytrain)\n",
        "#Xtest, Ytest = lowSampleDataset(Xtest, Ytest)\n",
        "\n",
        "Ytrain = to_categorical(Ytrain)\n",
        "Ytest = to_categorical(Ytest)\n",
        "\n",
        "print('\\tTraining set shape: ', Xtrain.shape)\n",
        "print('\\tTesting set shape: ', Xtest.shape)"
      ],
      "execution_count": 4,
      "outputs": [
        {
          "output_type": "stream",
          "name": "stdout",
          "text": [
            "Loading CIFAR10 images ...\n",
            "\tTraining set shape:  (50000, 32, 32, 3)\n",
            "\tTesting set shape:  (10000, 32, 32, 3)\n"
          ]
        }
      ]
    },
    {
      "cell_type": "markdown",
      "metadata": {
        "id": "VOS3oM12mkav"
      },
      "source": [
        "**Preparing the CNN:**\n",
        "\n",
        "1.   Define the architecture structure\n",
        "2.   Define the loss function and optimizer\n"
      ]
    },
    {
      "cell_type": "code",
      "metadata": {
        "id": "tziFfwmNkfmY"
      },
      "source": [
        "def setModel():\n",
        "  input_img = Input(shape=(32, 32, 3,))\n",
        "  model = Conv2D(64, kernel_size=(3,3), padding='same', activation='relu')(input_img)\n",
        "  model = Conv2D(64, kernel_size=(3,3), activation='relu')(model)\n",
        "  model = AveragePooling2D(pool_size=(2, 2))(model)\n",
        "  \n",
        "  model = Conv2D(64, kernel_size=(3,3), padding='same', activation='relu')(model)\n",
        "  model = Conv2D(64, kernel_size=(3,3), activation='relu')(model)\n",
        "  model = AveragePooling2D(pool_size=(2, 2))(model)\n",
        "  \n",
        "  model = Conv2D(64, kernel_size=(3,3), padding='same', activation='relu')(model)\n",
        "  model = Conv2D(64, kernel_size=(3,3), activation='relu')(model)\n",
        "  model = AveragePooling2D(pool_size=(2, 2))(model)\n",
        "  \n",
        "  model = Flatten()(model)\n",
        "  model = Dense(128, activation='relu')(model)\n",
        "  model = Dense(numberClasses, activation='softmax')(model)\n",
        "  \n",
        "  model = Model(input_img, model)\n",
        "  model.compile(loss='categorical_crossentropy', optimizer=SGD(learning_rate=0.01, momentum=0.0001), metrics=['accuracy'])\n",
        "  #model.summary()\n",
        "\n",
        "  return model"
      ],
      "execution_count": 5,
      "outputs": []
    },
    {
      "cell_type": "markdown",
      "metadata": {
        "id": "YEGXv78HNfVq"
      },
      "source": [
        "**Scoring function:**"
      ]
    },
    {
      "cell_type": "code",
      "metadata": {
        "id": "gP5rSm02MlfW"
      },
      "source": [
        "def scoringFunction(X, Y):\n",
        "  print(\"\\tScoring function...\")\n",
        "  bootstrapModel = setModel()\n",
        "  history = bootstrapModel.fit(x=X, y=Y, batch_size=batchSize, epochs=int(numberEpochs*0.1), shuffle=True)\n",
        "  \n",
        "  print(\"\\t\\tDefining difficulty level...\")\n",
        "  pred = bootstrapModel.predict(X)\n",
        "  del bootstrapModel\n",
        "  \n",
        "  score = []\n",
        "  for i in range(0,Y.shape[0]):\n",
        "    score.append((1 - (pred[i][np.argmax(Y[i])])))\n",
        "  \n",
        "  print(\"\\t\\tSorting the instances...\")\n",
        "  X = X.tolist()\n",
        "  Xsorted = [x for _,x in sorted(zip(score,X))]\n",
        "  \n",
        "  Y = Y.tolist()\n",
        "  Ysorted = [y for _,y in sorted(zip(score,Y))]\n",
        "  \n",
        "  return np.array(Xsorted), np.array(Ysorted)"
      ],
      "execution_count": 6,
      "outputs": []
    },
    {
      "cell_type": "markdown",
      "metadata": {
        "id": "tUTo1z_1NjNV"
      },
      "source": [
        "**Pacing function:**"
      ]
    },
    {
      "cell_type": "code",
      "metadata": {
        "id": "r7JI9-krOLap"
      },
      "source": [
        "def pacingFunction(X, Y, pacing, currentEpoch):\n",
        "  if (pacing == \"linear\"):\n",
        "    size = int((X.shape[0]/numberEpochs) * currentEpoch)\n",
        "  elif (pacing == \"log\"):\n",
        "    size = int((math.log((currentEpoch/numberEpochs)*(X.shape[0]),(X.shape[0])))*(X.shape[0]))\n",
        "  elif (pacing == \"ladder\"):\n",
        "    numberStepsLadder = 10\n",
        "    sizeStep = int(numberEpochs/numberStepsLadder)\n",
        "    currentStep = int(currentEpoch/sizeStep)+1\n",
        "    size = int((X.shape[0]*(currentStep/numberStepsLadder)))\n",
        "  \n",
        "  imagePacing = []\n",
        "  labelPacing = []\n",
        "  \n",
        "  size = int(size/numberClasses)\n",
        "  Ysearch = np.argmax(Y, axis=1)\n",
        "  \n",
        "  for i in range(0,numberClasses):\n",
        "    rowsImage = np.array([x for x,y in zip(X,Ysearch) if y == i])\n",
        "    rowsLabel = np.array([y for x,y in zip(X,Ysearch) if y == i])\n",
        "    \n",
        "    if (size <= 0):\n",
        "      images = rowsImage[:1]\n",
        "      labels = rowsLabel[:1]\n",
        "    else:\n",
        "      images = rowsImage[:size]\n",
        "      labels = rowsLabel[:size]\n",
        "      \n",
        "    if (i == 0):\n",
        "      imagePacing = images\n",
        "      labelPacing = labels\n",
        "    else:\n",
        "      imagePacing = np.concatenate((imagePacing, images), axis=0)\n",
        "      labelPacing = np.concatenate((labelPacing, labels), axis=0)\n",
        "  \n",
        "  return imagePacing, to_categorical(labelPacing)"
      ],
      "execution_count": 7,
      "outputs": []
    },
    {
      "cell_type": "markdown",
      "metadata": {
        "id": "YkeOOI0SPFiZ"
      },
      "source": [
        "**Training the model:**"
      ]
    },
    {
      "cell_type": "code",
      "metadata": {
        "id": "eFTv-BWBPH1K"
      },
      "source": [
        "def trainingTestingModel(Xtrain, Ytrain, Xtest, Ytest, pacing):\n",
        "  print(\"\\tTraining curriculum model with \" + pacing + \"...\")\n",
        "  model = setModel()\n",
        "  \n",
        "  for e in range(0, numberEpochs):\n",
        "    if not (pacing == \"constant\"):\n",
        "      Xcurriculum, Ycurriculum = pacingFunction(Xtrain, Ytrain, pacing, e+1)\n",
        "    else:\n",
        "      Xcurriculum, Ycurriculum = Xtrain, Ytrain\n",
        "    \n",
        "    batches = list(range(0, Xcurriculum.shape[0], batchSize))\n",
        "    perm = np.random.permutation(Xcurriculum.shape[0])\n",
        "    for b in batches:\n",
        "      if b + batchSize < Xcurriculum.shape[0]:\n",
        "        x = Xcurriculum[perm[b : b + batchSize]]\n",
        "        y = Ycurriculum[perm[b : b + batchSize]]\n",
        "      else:\n",
        "        x = Xcurriculum[perm[b : ]]\n",
        "        y = Ycurriculum[perm[b : ]]\n",
        "      loss = model.train_on_batch(x, y)\n",
        "    \n",
        "    acc = model.evaluate(Xtest, Ytest, batch_size=batchSize)\n",
        "    print(\"\\t\\tEpoch %i/%i: Instances (%i), Loss(%.15f), Acc Train(%.15f), Acc Test(%.15f).\" % (e+1, numberEpochs, Xcurriculum.shape[0], loss[0], loss[1], acc[1]))\n"
      ],
      "execution_count": 8,
      "outputs": []
    },
    {
      "cell_type": "code",
      "metadata": {
        "colab": {
          "base_uri": "https://localhost:8080/"
        },
        "id": "IlmRZjyPPVc4",
        "outputId": "ecc28bca-91b6-4c31-9c16-71272be3b8be"
      },
      "source": [
        "Xtrain, Ytrain = scoringFunction(Xtrain, Ytrain)\n",
        "trainingTestingModel(Xtrain, Ytrain, Xtest, Ytest, \"ladder\")"
      ],
      "execution_count": 10,
      "outputs": [
        {
          "output_type": "stream",
          "name": "stdout",
          "text": [
            "\tScoring function...\n",
            "Epoch 1/10\n",
            "1563/1563 [==============================] - 22s 13ms/step - loss: 2.9877 - accuracy: 0.0967\n",
            "Epoch 2/10\n",
            "1563/1563 [==============================] - 21s 13ms/step - loss: 2.3028 - accuracy: 0.0999\n",
            "Epoch 3/10\n",
            "1563/1563 [==============================] - 21s 13ms/step - loss: 2.3028 - accuracy: 0.0958\n",
            "Epoch 4/10\n",
            "1563/1563 [==============================] - 21s 13ms/step - loss: 2.3027 - accuracy: 0.0944\n",
            "Epoch 5/10\n",
            "1563/1563 [==============================] - 21s 13ms/step - loss: 2.3027 - accuracy: 0.0973\n",
            "Epoch 6/10\n",
            "1563/1563 [==============================] - 21s 13ms/step - loss: 2.3027 - accuracy: 0.0985\n",
            "Epoch 7/10\n",
            "1563/1563 [==============================] - 21s 14ms/step - loss: 2.3027 - accuracy: 0.0967\n",
            "Epoch 8/10\n",
            "1563/1563 [==============================] - 21s 13ms/step - loss: 2.3027 - accuracy: 0.0977\n",
            "Epoch 9/10\n",
            "1563/1563 [==============================] - 21s 13ms/step - loss: 2.3027 - accuracy: 0.0990\n",
            "Epoch 10/10\n",
            "1563/1563 [==============================] - 21s 13ms/step - loss: 2.3027 - accuracy: 0.0994\n",
            "\t\tDefining difficulty level...\n",
            "\t\tSorting the instances...\n",
            "\tTraining curriculum model with ladder...\n",
            "313/313 [==============================] - 2s 7ms/step - loss: 2.2864 - accuracy: 0.1089\n",
            "\t\tEpoch 1/100: Instances (5000), Loss(2.318812131881714), Acc Train(0.125000000000000), Acc Test(0.108900003135204).\n",
            "313/313 [==============================] - 2s 7ms/step - loss: 2.1159 - accuracy: 0.2386\n",
            "\t\tEpoch 2/100: Instances (5000), Loss(2.353803157806396), Acc Train(0.125000000000000), Acc Test(0.238600000739098).\n",
            "313/313 [==============================] - 2s 7ms/step - loss: 2.3864 - accuracy: 0.1839\n",
            "\t\tEpoch 3/100: Instances (5000), Loss(1.854172825813293), Acc Train(0.375000000000000), Acc Test(0.183899998664856).\n",
            "313/313 [==============================] - 2s 7ms/step - loss: 2.0943 - accuracy: 0.2291\n",
            "\t\tEpoch 4/100: Instances (5000), Loss(1.961445927619934), Acc Train(0.250000000000000), Acc Test(0.229100003838539).\n",
            "313/313 [==============================] - 2s 7ms/step - loss: 2.0151 - accuracy: 0.2788\n",
            "\t\tEpoch 5/100: Instances (5000), Loss(1.992015838623047), Acc Train(0.375000000000000), Acc Test(0.278800010681152).\n",
            "313/313 [==============================] - 2s 7ms/step - loss: 2.0096 - accuracy: 0.2965\n",
            "\t\tEpoch 6/100: Instances (5000), Loss(2.063083648681641), Acc Train(0.250000000000000), Acc Test(0.296499997377396).\n",
            "313/313 [==============================] - 2s 7ms/step - loss: 1.9675 - accuracy: 0.3149\n",
            "\t\tEpoch 7/100: Instances (5000), Loss(1.465039491653442), Acc Train(0.500000000000000), Acc Test(0.314900010824203).\n",
            "313/313 [==============================] - 2s 7ms/step - loss: 1.9818 - accuracy: 0.2868\n",
            "\t\tEpoch 8/100: Instances (5000), Loss(1.782824635505676), Acc Train(0.250000000000000), Acc Test(0.286799997091293).\n",
            "313/313 [==============================] - 2s 7ms/step - loss: 1.8423 - accuracy: 0.3461\n",
            "\t\tEpoch 9/100: Instances (5000), Loss(1.773068189620972), Acc Train(0.500000000000000), Acc Test(0.346100002527237).\n",
            "313/313 [==============================] - 2s 7ms/step - loss: 1.8015 - accuracy: 0.3424\n",
            "\t\tEpoch 10/100: Instances (10000), Loss(2.006782770156860), Acc Train(0.500000000000000), Acc Test(0.342400014400482).\n",
            "313/313 [==============================] - 2s 7ms/step - loss: 1.7821 - accuracy: 0.3832\n",
            "\t\tEpoch 11/100: Instances (10000), Loss(1.210869312286377), Acc Train(0.687500000000000), Acc Test(0.383199989795685).\n",
            "313/313 [==============================] - 2s 7ms/step - loss: 1.6466 - accuracy: 0.4157\n",
            "\t\tEpoch 12/100: Instances (10000), Loss(1.263069391250610), Acc Train(0.500000000000000), Acc Test(0.415699988603592).\n",
            "313/313 [==============================] - 2s 7ms/step - loss: 1.5642 - accuracy: 0.4349\n",
            "\t\tEpoch 13/100: Instances (10000), Loss(1.033643484115601), Acc Train(0.500000000000000), Acc Test(0.434899985790253).\n",
            "313/313 [==============================] - 2s 7ms/step - loss: 1.7423 - accuracy: 0.3853\n",
            "\t\tEpoch 14/100: Instances (10000), Loss(1.718871355056763), Acc Train(0.375000000000000), Acc Test(0.385300010442734).\n",
            "313/313 [==============================] - 2s 7ms/step - loss: 1.6585 - accuracy: 0.4301\n",
            "\t\tEpoch 15/100: Instances (10000), Loss(1.224113702774048), Acc Train(0.625000000000000), Acc Test(0.430099993944168).\n",
            "313/313 [==============================] - 2s 7ms/step - loss: 1.5576 - accuracy: 0.4590\n",
            "\t\tEpoch 16/100: Instances (10000), Loss(1.532713770866394), Acc Train(0.437500000000000), Acc Test(0.458999991416931).\n",
            "313/313 [==============================] - 2s 7ms/step - loss: 1.4864 - accuracy: 0.4753\n",
            "\t\tEpoch 17/100: Instances (10000), Loss(1.296431779861450), Acc Train(0.625000000000000), Acc Test(0.475300014019012).\n",
            "313/313 [==============================] - 2s 7ms/step - loss: 1.5215 - accuracy: 0.4695\n",
            "\t\tEpoch 18/100: Instances (10000), Loss(1.010182142257690), Acc Train(0.437500000000000), Acc Test(0.469500005245209).\n",
            "313/313 [==============================] - 2s 7ms/step - loss: 1.5157 - accuracy: 0.4870\n",
            "\t\tEpoch 19/100: Instances (10000), Loss(0.875439941883087), Acc Train(0.687500000000000), Acc Test(0.486999988555908).\n",
            "313/313 [==============================] - 2s 6ms/step - loss: 1.4354 - accuracy: 0.4921\n",
            "\t\tEpoch 20/100: Instances (15000), Loss(1.143294215202332), Acc Train(0.500000000000000), Acc Test(0.492100000381470).\n",
            "313/313 [==============================] - 2s 7ms/step - loss: 1.4042 - accuracy: 0.5093\n",
            "\t\tEpoch 21/100: Instances (15000), Loss(1.161378979682922), Acc Train(0.625000000000000), Acc Test(0.509299993515015).\n",
            "313/313 [==============================] - 2s 7ms/step - loss: 1.3960 - accuracy: 0.5184\n",
            "\t\tEpoch 22/100: Instances (15000), Loss(1.146481394767761), Acc Train(0.708333313465118), Acc Test(0.518400013446808).\n",
            "313/313 [==============================] - 2s 7ms/step - loss: 1.4467 - accuracy: 0.5102\n",
            "\t\tEpoch 23/100: Instances (15000), Loss(1.165945410728455), Acc Train(0.541666686534882), Acc Test(0.510200023651123).\n",
            "313/313 [==============================] - 2s 7ms/step - loss: 1.7473 - accuracy: 0.4716\n",
            "\t\tEpoch 24/100: Instances (15000), Loss(1.461953759193420), Acc Train(0.458333343267441), Acc Test(0.471599996089935).\n",
            "313/313 [==============================] - 2s 7ms/step - loss: 1.4380 - accuracy: 0.5175\n",
            "\t\tEpoch 25/100: Instances (15000), Loss(0.634995222091675), Acc Train(0.750000000000000), Acc Test(0.517499983310699).\n",
            "313/313 [==============================] - 2s 7ms/step - loss: 1.4457 - accuracy: 0.5315\n",
            "\t\tEpoch 26/100: Instances (15000), Loss(0.670970976352692), Acc Train(0.791666686534882), Acc Test(0.531499981880188).\n",
            "313/313 [==============================] - 2s 7ms/step - loss: 1.4620 - accuracy: 0.5359\n",
            "\t\tEpoch 27/100: Instances (15000), Loss(0.772762715816498), Acc Train(0.708333313465118), Acc Test(0.535899996757507).\n",
            "313/313 [==============================] - 2s 7ms/step - loss: 1.4344 - accuracy: 0.5451\n",
            "\t\tEpoch 28/100: Instances (15000), Loss(0.936258792877197), Acc Train(0.750000000000000), Acc Test(0.545099973678589).\n",
            "313/313 [==============================] - 2s 7ms/step - loss: 1.5765 - accuracy: 0.5258\n",
            "\t\tEpoch 29/100: Instances (15000), Loss(0.861013889312744), Acc Train(0.750000000000000), Acc Test(0.525799989700317).\n",
            "313/313 [==============================] - 2s 7ms/step - loss: 1.4378 - accuracy: 0.5367\n",
            "\t\tEpoch 30/100: Instances (20000), Loss(0.993384361267090), Acc Train(0.593750000000000), Acc Test(0.536700010299683).\n",
            "313/313 [==============================] - 2s 7ms/step - loss: 1.4022 - accuracy: 0.5572\n",
            "\t\tEpoch 31/100: Instances (20000), Loss(0.905118644237518), Acc Train(0.687500000000000), Acc Test(0.557200014591217).\n",
            "313/313 [==============================] - 2s 7ms/step - loss: 1.4779 - accuracy: 0.5504\n",
            "\t\tEpoch 32/100: Instances (20000), Loss(0.849938750267029), Acc Train(0.750000000000000), Acc Test(0.550400018692017).\n",
            "313/313 [==============================] - 2s 7ms/step - loss: 1.3508 - accuracy: 0.5819\n",
            "\t\tEpoch 33/100: Instances (20000), Loss(0.453164041042328), Acc Train(0.875000000000000), Acc Test(0.581900000572205).\n",
            "313/313 [==============================] - 2s 7ms/step - loss: 1.4665 - accuracy: 0.5570\n",
            "\t\tEpoch 34/100: Instances (20000), Loss(0.817261695861816), Acc Train(0.718750000000000), Acc Test(0.556999981403351).\n",
            "313/313 [==============================] - 2s 7ms/step - loss: 1.4928 - accuracy: 0.5610\n",
            "\t\tEpoch 35/100: Instances (20000), Loss(0.440032631158829), Acc Train(0.781250000000000), Acc Test(0.560999989509583).\n",
            "313/313 [==============================] - 2s 7ms/step - loss: 1.4889 - accuracy: 0.5797\n",
            "\t\tEpoch 36/100: Instances (20000), Loss(0.360475987195969), Acc Train(0.875000000000000), Acc Test(0.579699993133545).\n",
            "313/313 [==============================] - 2s 7ms/step - loss: 1.5429 - accuracy: 0.5712\n",
            "\t\tEpoch 37/100: Instances (20000), Loss(0.724149644374847), Acc Train(0.718750000000000), Acc Test(0.571200013160706).\n",
            "313/313 [==============================] - 2s 7ms/step - loss: 1.5909 - accuracy: 0.5683\n",
            "\t\tEpoch 38/100: Instances (20000), Loss(0.692940115928650), Acc Train(0.812500000000000), Acc Test(0.568300008773804).\n",
            "313/313 [==============================] - 2s 7ms/step - loss: 1.6924 - accuracy: 0.5640\n",
            "\t\tEpoch 39/100: Instances (20000), Loss(0.403368115425110), Acc Train(0.781250000000000), Acc Test(0.564000010490417).\n",
            "313/313 [==============================] - 2s 7ms/step - loss: 1.8867 - accuracy: 0.4971\n",
            "\t\tEpoch 40/100: Instances (25000), Loss(1.522338390350342), Acc Train(0.500000000000000), Acc Test(0.497099995613098).\n",
            "313/313 [==============================] - 2s 7ms/step - loss: 1.4587 - accuracy: 0.5960\n",
            "\t\tEpoch 41/100: Instances (25000), Loss(0.242988333106041), Acc Train(1.000000000000000), Acc Test(0.596000015735626).\n",
            "313/313 [==============================] - 2s 7ms/step - loss: 1.9401 - accuracy: 0.5412\n",
            "\t\tEpoch 42/100: Instances (25000), Loss(0.786082744598389), Acc Train(0.625000000000000), Acc Test(0.541199982166290).\n",
            "313/313 [==============================] - 2s 7ms/step - loss: 1.8664 - accuracy: 0.5521\n",
            "\t\tEpoch 43/100: Instances (25000), Loss(0.917736411094666), Acc Train(0.625000000000000), Acc Test(0.552100002765656).\n",
            "313/313 [==============================] - 2s 7ms/step - loss: 1.6884 - accuracy: 0.5776\n",
            "\t\tEpoch 44/100: Instances (25000), Loss(0.722008943557739), Acc Train(0.750000000000000), Acc Test(0.577600002288818).\n",
            "313/313 [==============================] - 2s 7ms/step - loss: 1.9996 - accuracy: 0.5554\n",
            "\t\tEpoch 45/100: Instances (25000), Loss(0.493720531463623), Acc Train(0.625000000000000), Acc Test(0.555400013923645).\n",
            "313/313 [==============================] - 2s 7ms/step - loss: 2.5316 - accuracy: 0.5044\n",
            "\t\tEpoch 46/100: Instances (25000), Loss(1.078513979911804), Acc Train(0.625000000000000), Acc Test(0.504400014877319).\n",
            "313/313 [==============================] - 2s 7ms/step - loss: 1.9601 - accuracy: 0.5848\n",
            "\t\tEpoch 47/100: Instances (25000), Loss(0.415510773658752), Acc Train(0.750000000000000), Acc Test(0.584800004959106).\n",
            "313/313 [==============================] - 2s 7ms/step - loss: 1.8694 - accuracy: 0.5809\n",
            "\t\tEpoch 48/100: Instances (25000), Loss(0.147237688302994), Acc Train(0.875000000000000), Acc Test(0.580900013446808).\n",
            "313/313 [==============================] - 2s 7ms/step - loss: 2.2112 - accuracy: 0.5195\n",
            "\t\tEpoch 49/100: Instances (25000), Loss(1.022032380104065), Acc Train(0.750000000000000), Acc Test(0.519500017166138).\n",
            "313/313 [==============================] - 2s 7ms/step - loss: 1.6887 - accuracy: 0.5639\n",
            "\t\tEpoch 50/100: Instances (30000), Loss(0.895160317420959), Acc Train(0.750000000000000), Acc Test(0.563899993896484).\n",
            "313/313 [==============================] - 2s 7ms/step - loss: 1.4301 - accuracy: 0.6140\n",
            "\t\tEpoch 51/100: Instances (30000), Loss(0.532571136951447), Acc Train(0.875000000000000), Acc Test(0.614000022411346).\n",
            "313/313 [==============================] - 2s 7ms/step - loss: 1.5878 - accuracy: 0.6112\n",
            "\t\tEpoch 52/100: Instances (30000), Loss(0.575751185417175), Acc Train(0.812500000000000), Acc Test(0.611199975013733).\n",
            "313/313 [==============================] - 2s 7ms/step - loss: 1.6434 - accuracy: 0.6122\n",
            "\t\tEpoch 53/100: Instances (30000), Loss(0.492491602897644), Acc Train(0.750000000000000), Acc Test(0.612200021743774).\n",
            "313/313 [==============================] - 2s 7ms/step - loss: 1.5998 - accuracy: 0.6093\n",
            "\t\tEpoch 54/100: Instances (30000), Loss(0.338544368743896), Acc Train(0.812500000000000), Acc Test(0.609300017356873).\n",
            "313/313 [==============================] - 2s 7ms/step - loss: 1.7320 - accuracy: 0.5917\n",
            "\t\tEpoch 55/100: Instances (30000), Loss(0.143024682998657), Acc Train(0.937500000000000), Acc Test(0.591700017452240).\n",
            "313/313 [==============================] - 2s 7ms/step - loss: 1.9810 - accuracy: 0.5944\n",
            "\t\tEpoch 56/100: Instances (30000), Loss(0.276314049959183), Acc Train(0.875000000000000), Acc Test(0.594399988651276).\n",
            "313/313 [==============================] - 2s 7ms/step - loss: 2.0226 - accuracy: 0.5908\n",
            "\t\tEpoch 57/100: Instances (30000), Loss(0.302308291196823), Acc Train(0.875000000000000), Acc Test(0.590799987316132).\n",
            "313/313 [==============================] - 2s 7ms/step - loss: 1.9462 - accuracy: 0.5965\n",
            "\t\tEpoch 58/100: Instances (30000), Loss(0.390612125396729), Acc Train(0.875000000000000), Acc Test(0.596499979496002).\n",
            "313/313 [==============================] - 2s 7ms/step - loss: 2.1015 - accuracy: 0.5735\n",
            "\t\tEpoch 59/100: Instances (30000), Loss(0.716372966766357), Acc Train(0.750000000000000), Acc Test(0.573499977588654).\n",
            "313/313 [==============================] - 2s 7ms/step - loss: 1.4098 - accuracy: 0.6263\n",
            "\t\tEpoch 60/100: Instances (35000), Loss(0.282017320394516), Acc Train(0.958333313465118), Acc Test(0.626299977302551).\n",
            "313/313 [==============================] - 2s 7ms/step - loss: 1.6176 - accuracy: 0.6151\n",
            "\t\tEpoch 61/100: Instances (35000), Loss(0.624751091003418), Acc Train(0.791666686534882), Acc Test(0.615100026130676).\n",
            "313/313 [==============================] - 2s 7ms/step - loss: 1.6056 - accuracy: 0.6328\n",
            "\t\tEpoch 62/100: Instances (35000), Loss(0.248865529894829), Acc Train(0.916666686534882), Acc Test(0.632799983024597).\n",
            "313/313 [==============================] - 2s 7ms/step - loss: 1.6217 - accuracy: 0.6379\n",
            "\t\tEpoch 63/100: Instances (35000), Loss(0.243089258670807), Acc Train(0.875000000000000), Acc Test(0.637899994850159).\n",
            "313/313 [==============================] - 2s 7ms/step - loss: 1.7641 - accuracy: 0.6314\n",
            "\t\tEpoch 64/100: Instances (35000), Loss(0.078688457608223), Acc Train(1.000000000000000), Acc Test(0.631399989128113).\n",
            "313/313 [==============================] - 2s 7ms/step - loss: 1.7165 - accuracy: 0.6350\n",
            "\t\tEpoch 65/100: Instances (35000), Loss(0.112154252827168), Acc Train(1.000000000000000), Acc Test(0.634999990463257).\n",
            "313/313 [==============================] - 2s 7ms/step - loss: 1.8558 - accuracy: 0.6296\n",
            "\t\tEpoch 66/100: Instances (35000), Loss(0.080368839204311), Acc Train(1.000000000000000), Acc Test(0.629599988460541).\n",
            "313/313 [==============================] - 2s 7ms/step - loss: 1.7933 - accuracy: 0.6396\n",
            "\t\tEpoch 67/100: Instances (35000), Loss(0.192606613039970), Acc Train(0.916666686534882), Acc Test(0.639599978923798).\n",
            "313/313 [==============================] - 2s 7ms/step - loss: 1.9808 - accuracy: 0.6111\n",
            "\t\tEpoch 68/100: Instances (35000), Loss(0.274273335933685), Acc Train(0.916666686534882), Acc Test(0.611100018024445).\n",
            "313/313 [==============================] - 2s 7ms/step - loss: 2.1109 - accuracy: 0.6167\n",
            "\t\tEpoch 69/100: Instances (35000), Loss(0.700614273548126), Acc Train(0.791666686534882), Acc Test(0.616699993610382).\n",
            "313/313 [==============================] - 2s 7ms/step - loss: 1.4468 - accuracy: 0.6509\n",
            "\t\tEpoch 70/100: Instances (40000), Loss(0.250341415405273), Acc Train(0.875000000000000), Acc Test(0.650900006294250).\n",
            "313/313 [==============================] - 2s 7ms/step - loss: 1.5296 - accuracy: 0.6580\n",
            "\t\tEpoch 71/100: Instances (40000), Loss(0.390623897314072), Acc Train(0.843750000000000), Acc Test(0.657999992370605).\n",
            "313/313 [==============================] - 2s 7ms/step - loss: 1.6344 - accuracy: 0.6474\n",
            "\t\tEpoch 72/100: Instances (40000), Loss(0.347705960273743), Acc Train(0.875000000000000), Acc Test(0.647400021553040).\n",
            "313/313 [==============================] - 2s 7ms/step - loss: 1.6406 - accuracy: 0.6433\n",
            "\t\tEpoch 73/100: Instances (40000), Loss(0.435634493827820), Acc Train(0.906250000000000), Acc Test(0.643299996852875).\n",
            "313/313 [==============================] - 2s 7ms/step - loss: 1.6982 - accuracy: 0.6556\n",
            "\t\tEpoch 74/100: Instances (40000), Loss(0.352386206388474), Acc Train(0.906250000000000), Acc Test(0.655600011348724).\n",
            "313/313 [==============================] - 2s 7ms/step - loss: 1.7990 - accuracy: 0.6418\n",
            "\t\tEpoch 75/100: Instances (40000), Loss(0.233358994126320), Acc Train(0.875000000000000), Acc Test(0.641799986362457).\n",
            "313/313 [==============================] - 2s 7ms/step - loss: 1.9021 - accuracy: 0.6411\n",
            "\t\tEpoch 76/100: Instances (40000), Loss(0.435192793607712), Acc Train(0.906250000000000), Acc Test(0.641099989414215).\n",
            "313/313 [==============================] - 2s 7ms/step - loss: 1.9444 - accuracy: 0.6450\n",
            "\t\tEpoch 77/100: Instances (40000), Loss(0.051625695079565), Acc Train(1.000000000000000), Acc Test(0.644999980926514).\n",
            "313/313 [==============================] - 2s 7ms/step - loss: 1.8443 - accuracy: 0.6516\n",
            "\t\tEpoch 78/100: Instances (40000), Loss(0.180318742990494), Acc Train(0.968750000000000), Acc Test(0.651600003242493).\n",
            "313/313 [==============================] - 2s 7ms/step - loss: 2.1158 - accuracy: 0.6479\n",
            "\t\tEpoch 79/100: Instances (40000), Loss(0.181055426597595), Acc Train(0.937500000000000), Acc Test(0.647899985313416).\n",
            "313/313 [==============================] - 2s 7ms/step - loss: 1.9657 - accuracy: 0.5892\n",
            "\t\tEpoch 80/100: Instances (45000), Loss(1.080118775367737), Acc Train(0.750000000000000), Acc Test(0.589200019836426).\n",
            "313/313 [==============================] - 2s 7ms/step - loss: 1.5822 - accuracy: 0.6366\n",
            "\t\tEpoch 81/100: Instances (45000), Loss(0.743481874465942), Acc Train(0.875000000000000), Acc Test(0.636600017547607).\n",
            "313/313 [==============================] - 2s 7ms/step - loss: 1.5257 - accuracy: 0.6573\n",
            "\t\tEpoch 82/100: Instances (45000), Loss(0.084338836371899), Acc Train(1.000000000000000), Acc Test(0.657299995422363).\n",
            "313/313 [==============================] - 2s 7ms/step - loss: 1.6905 - accuracy: 0.6710\n",
            "\t\tEpoch 83/100: Instances (45000), Loss(0.042334385216236), Acc Train(1.000000000000000), Acc Test(0.671000003814697).\n",
            "313/313 [==============================] - 2s 7ms/step - loss: 1.6912 - accuracy: 0.6616\n",
            "\t\tEpoch 84/100: Instances (45000), Loss(0.113341651856899), Acc Train(1.000000000000000), Acc Test(0.661599993705750).\n",
            "313/313 [==============================] - 2s 7ms/step - loss: 1.9377 - accuracy: 0.6489\n",
            "\t\tEpoch 85/100: Instances (45000), Loss(0.206207573413849), Acc Train(1.000000000000000), Acc Test(0.648899972438812).\n",
            "313/313 [==============================] - 2s 7ms/step - loss: 1.8265 - accuracy: 0.6645\n",
            "\t\tEpoch 86/100: Instances (45000), Loss(0.110687628388405), Acc Train(0.875000000000000), Acc Test(0.664499998092651).\n",
            "313/313 [==============================] - 2s 7ms/step - loss: 1.9650 - accuracy: 0.6179\n",
            "\t\tEpoch 87/100: Instances (45000), Loss(0.322520285844803), Acc Train(0.875000000000000), Acc Test(0.617900013923645).\n",
            "313/313 [==============================] - 2s 7ms/step - loss: 1.7944 - accuracy: 0.6580\n",
            "\t\tEpoch 88/100: Instances (45000), Loss(0.053674448281527), Acc Train(1.000000000000000), Acc Test(0.657999992370605).\n",
            "313/313 [==============================] - 2s 7ms/step - loss: 1.9841 - accuracy: 0.6611\n",
            "\t\tEpoch 89/100: Instances (45000), Loss(0.006363997701555), Acc Train(1.000000000000000), Acc Test(0.661099970340729).\n",
            "313/313 [==============================] - 2s 7ms/step - loss: 1.3104 - accuracy: 0.6719\n",
            "\t\tEpoch 90/100: Instances (50000), Loss(0.244603395462036), Acc Train(0.875000000000000), Acc Test(0.671899974346161).\n",
            "313/313 [==============================] - 2s 7ms/step - loss: 1.4130 - accuracy: 0.6684\n",
            "\t\tEpoch 91/100: Instances (50000), Loss(0.504971265792847), Acc Train(0.875000000000000), Acc Test(0.668399989604950).\n",
            "313/313 [==============================] - 2s 7ms/step - loss: 1.5734 - accuracy: 0.6626\n",
            "\t\tEpoch 92/100: Instances (50000), Loss(0.058261055499315), Acc Train(1.000000000000000), Acc Test(0.662599980831146).\n",
            "313/313 [==============================] - 2s 7ms/step - loss: 1.5766 - accuracy: 0.6699\n",
            "\t\tEpoch 93/100: Instances (50000), Loss(0.155332952737808), Acc Train(0.875000000000000), Acc Test(0.669900000095367).\n",
            "313/313 [==============================] - 2s 7ms/step - loss: 1.6544 - accuracy: 0.6718\n",
            "\t\tEpoch 94/100: Instances (50000), Loss(0.177479594945908), Acc Train(0.937500000000000), Acc Test(0.671800017356873).\n",
            "313/313 [==============================] - 2s 7ms/step - loss: 1.8925 - accuracy: 0.6543\n",
            "\t\tEpoch 95/100: Instances (50000), Loss(0.405712068080902), Acc Train(0.812500000000000), Acc Test(0.654299974441528).\n",
            "313/313 [==============================] - 2s 7ms/step - loss: 1.6969 - accuracy: 0.6517\n",
            "\t\tEpoch 96/100: Instances (50000), Loss(0.284595996141434), Acc Train(0.937500000000000), Acc Test(0.651700019836426).\n",
            "313/313 [==============================] - 2s 7ms/step - loss: 1.6909 - accuracy: 0.6772\n",
            "\t\tEpoch 97/100: Instances (50000), Loss(0.047250337898731), Acc Train(1.000000000000000), Acc Test(0.677200019359589).\n",
            "313/313 [==============================] - 2s 7ms/step - loss: 1.7656 - accuracy: 0.6717\n",
            "\t\tEpoch 98/100: Instances (50000), Loss(0.131920665502548), Acc Train(0.937500000000000), Acc Test(0.671700000762939).\n",
            "313/313 [==============================] - 2s 7ms/step - loss: 1.8633 - accuracy: 0.6656\n",
            "\t\tEpoch 99/100: Instances (50000), Loss(0.152154266834259), Acc Train(0.875000000000000), Acc Test(0.665600001811981).\n",
            "313/313 [==============================] - 2s 7ms/step - loss: 1.8725 - accuracy: 0.6760\n",
            "\t\tEpoch 100/100: Instances (50000), Loss(0.026435505598783), Acc Train(1.000000000000000), Acc Test(0.675999999046326).\n"
          ]
        }
      ]
    }
  ]
}