{
  "nbformat": 4,
  "nbformat_minor": 0,
  "metadata": {
    "colab": {
      "name": "CNNFineTuning.ipynb",
      "provenance": [],
      "collapsed_sections": []
    },
    "kernelspec": {
      "name": "python3",
      "display_name": "Python 3"
    },
    "accelerator": "GPU"
  },
  "cells": [
    {
      "cell_type": "markdown",
      "metadata": {
        "id": "view-in-github"
      },
      "source": [
        "<a href=\"https://colab.research.google.com/github/fernandopersan/4EscolaBigData/blob/main/CNNFineTuning.ipynb\" target=\"_parent\"><img src=\"https://colab.research.google.com/assets/colab-badge.svg\" alt=\"Open In Colab\"/></a>"
      ]
    },
    {
      "cell_type": "markdown",
      "metadata": {
        "id": "5ziDCdPnc2H1"
      },
      "source": [
        "# Fine-tuning with ResNet50: training and prediction\n",
        "\n",
        "Before starting the code execution, make the following change: **Ambiente de execução -> Alterar o tipo de ambiente de execução -> GPU**"
      ]
    },
    {
      "cell_type": "code",
      "metadata": {
        "id": "VUWqH9taZ-ok"
      },
      "source": [
        "import os\n",
        "import numpy as np\n",
        "from PIL import Image\n",
        "\n",
        "from keras.datasets import cifar10\n",
        "from keras.layers import Dense\n",
        "from keras.models import Model, Sequential, load_model\n",
        "from tensorflow.keras.optimizers import SGD\n",
        "from tensorflow.keras.utils import to_categorical\n",
        "from tensorflow.keras.applications import resnet50\n",
        "\n",
        "import matplotlib.pyplot as plt"
      ],
      "execution_count": 4,
      "outputs": []
    },
    {
      "cell_type": "markdown",
      "metadata": {
        "id": "yH7fge6CdLmt"
      },
      "source": [
        "**Parameters definition:**"
      ]
    },
    {
      "cell_type": "code",
      "metadata": {
        "id": "gCE8h8X8ah-a"
      },
      "source": [
        "batchSize = 32\n",
        "numberEpochs = 10\n",
        "numberClasses = 10"
      ],
      "execution_count": 5,
      "outputs": []
    },
    {
      "cell_type": "markdown",
      "metadata": {
        "id": "vVEpSyPDdSFK"
      },
      "source": [
        "**lowSampleDataset(X,Y)** function just reduces the number of examples so that the execution is faster in our example!"
      ]
    },
    {
      "cell_type": "code",
      "metadata": {
        "id": "ApPM0csmaHUr"
      },
      "source": [
        "def lowSampleDataset(X, Y):\n",
        "    perm = np.random.permutation(X.shape[0])\n",
        "    X = X[perm[0 : (int)(X.shape[0] * (5/100))]]\n",
        "    Y = Y[perm[0 : (int)(Y.shape[0] * (5/100))]]\n",
        "    return X, Y"
      ],
      "execution_count": 6,
      "outputs": []
    },
    {
      "cell_type": "markdown",
      "metadata": {
        "id": "Hx30pGXUdXpf"
      },
      "source": [
        "**Pre-processing:**\n",
        "\n",
        "1.   Load CIFAR10 dataset\n",
        "2.   Reduce the number of examples\n",
        "1.   Change the resolution of the examples\n",
        "\n"
      ]
    },
    {
      "cell_type": "code",
      "metadata": {
        "id": "nJVaKMsWaNl6",
        "colab": {
          "base_uri": "https://localhost:8080/"
        },
        "outputId": "6bed7f64-90ff-4edc-a62b-65221b38b2e7"
      },
      "source": [
        "print(\"Loading CIFAR10 images ...\")\n",
        "(Xtrain, Ytrain), (Xtest, Ytest) = cifar10.load_data()\n",
        "\n",
        "Xtrain, Ytrain = lowSampleDataset(Xtrain, Ytrain)\n",
        "Xtest, Ytest = lowSampleDataset(Xtest, Ytest)\n",
        "\n",
        "X = []\n",
        "for i in range(0, Xtrain.shape[0]):\n",
        "    X.append(np.array(Image.fromarray(Xtrain[i]).resize(size=(224,224))))\n",
        "Xtrain = np.array(X)\n",
        "\n",
        "X = []\n",
        "for i in range(0, Xtest.shape[0]):\n",
        "    X.append(np.array(Image.fromarray(Xtest[i]).resize(size=(224,224))))\n",
        "Xtest = np.array(X)\n",
        "\n",
        "Ytrain = to_categorical(Ytrain)\n",
        "Ytest = to_categorical(Ytest)\n",
        "\n",
        "print('\\tTraining set shape: ', Xtrain.shape)\n",
        "print('\\tTesting set shape: ', Xtest.shape)"
      ],
      "execution_count": 7,
      "outputs": [
        {
          "output_type": "stream",
          "name": "stdout",
          "text": [
            "Loading CIFAR10 images ...\n",
            "Downloading data from https://www.cs.toronto.edu/~kriz/cifar-10-python.tar.gz\n",
            "170500096/170498071 [==============================] - 3s 0us/step\n",
            "170508288/170498071 [==============================] - 3s 0us/step\n",
            "\tTraining set shape:  (2500, 224, 224, 3)\n",
            "\tTesting set shape:  (500, 224, 224, 3)\n"
          ]
        }
      ]
    },
    {
      "cell_type": "markdown",
      "metadata": {
        "id": "W6iRtOXtdr06"
      },
      "source": [
        "**Preparing the network for fine-tuning:**\n",
        "\n",
        "1.   Load the pre-trained model\n",
        "2.   Add the desired layers (the prediction layer must have the same number of classes from the target dataset)\n",
        "1.   Define the loss function and optimizer\n",
        "\n",
        "\n",
        "\n"
      ]
    },
    {
      "cell_type": "code",
      "metadata": {
        "id": "DjBgI-OjaWAV",
        "colab": {
          "base_uri": "https://localhost:8080/"
        },
        "outputId": "df9eb117-1b7c-473c-b3c0-b7b62623e3c0"
      },
      "source": [
        "print(\"Loading the ResNet50-ImageNet model\")\n",
        "model = resnet50.ResNet50(input_shape=(224, 224, 3), weights='imagenet', include_top=True, classes=1000)\n",
        "model = Model(inputs=model.input, outputs=model.get_layer(index=-2).output)\n",
        "\n",
        "print(\"\\tAdding new layers to the model ...\")\n",
        "newTop = Sequential()\n",
        "newTop.add(Dense(numberClasses, activation='softmax', name='fc1000', input_shape=model.output_shape[1:]))\n",
        "\n",
        "print(\"\\tSet fine-tuning configuration...\")\n",
        "model = Model(inputs=model.input, outputs=newTop(model.output))\n",
        "\n",
        "#for layer in model.layers[:-int(10)]:\n",
        "#    layer.trainable = False\n",
        "\n",
        "#optimizer = SGD(lr=0.01, momentum=0.0001, decay=0.9)\n",
        "optimizer = 'adam'\n",
        "model.compile(loss='categorical_crossentropy', optimizer=optimizer, metrics=['accuracy'])\n",
        "#model.summary()"
      ],
      "execution_count": 8,
      "outputs": [
        {
          "output_type": "stream",
          "name": "stdout",
          "text": [
            "Loading the ResNet50-ImageNet model\n",
            "Downloading data from https://storage.googleapis.com/tensorflow/keras-applications/resnet/resnet50_weights_tf_dim_ordering_tf_kernels.h5\n",
            "102973440/102967424 [==============================] - 1s 0us/step\n",
            "102981632/102967424 [==============================] - 1s 0us/step\n",
            "\tAdding new layers to the model ...\n",
            "\tSet fine-tuning configuration...\n"
          ]
        }
      ]
    },
    {
      "cell_type": "markdown",
      "metadata": {
        "id": "GfnXRWE1ePig"
      },
      "source": [
        "**Network training:**"
      ]
    },
    {
      "cell_type": "code",
      "metadata": {
        "id": "ntEm1SLTasTW",
        "colab": {
          "base_uri": "https://localhost:8080/"
        },
        "outputId": "82afc11d-9a9f-47bc-d735-0c28732b823e"
      },
      "source": [
        "print(\"Training the model ...\")\n",
        "batches = list(range(0, len(Ytrain), batchSize))\n",
        "perm = np.random.permutation(len(Ytrain))\n",
        "\n",
        "errLoss = []\n",
        "accLoss = []\n",
        "errLoss.append(1)\n",
        "accLoss.append(0)\n",
        "\n",
        "for e in range(0, numberEpochs):\n",
        "    for b in batches:\n",
        "        if b + batchSize < len(Ytrain):\n",
        "            x = Xtrain[perm[b : b + batchSize]]\n",
        "            y = Ytrain[perm[b : b + batchSize]]\n",
        "        else:\n",
        "            x = Xtrain[perm[b : ]]\n",
        "            y = Ytrain[perm[b : ]]\n",
        "        loss = model.train_on_batch(x, y)\n",
        "\n",
        "    print(\"\\tEpoch %i. [Error, Accuracy]: %.15f, %.15f \" % (e+1, loss[0], loss[1]))\n",
        "    errLoss.append(loss[0])\n",
        "    accLoss.append(loss[1])"
      ],
      "execution_count": 9,
      "outputs": [
        {
          "output_type": "stream",
          "name": "stdout",
          "text": [
            "Training the model ...\n",
            "\tEpoch 1. [Error, Accuracy]: 1.766921758651733, 0.250000000000000 \n",
            "\tEpoch 2. [Error, Accuracy]: 0.839449703693390, 0.750000000000000 \n",
            "\tEpoch 3. [Error, Accuracy]: 0.181316480040550, 1.000000000000000 \n",
            "\tEpoch 4. [Error, Accuracy]: 0.042026959359646, 1.000000000000000 \n",
            "\tEpoch 5. [Error, Accuracy]: 0.017970338463783, 1.000000000000000 \n",
            "\tEpoch 6. [Error, Accuracy]: 0.016880016773939, 1.000000000000000 \n",
            "\tEpoch 7. [Error, Accuracy]: 0.002732742112130, 1.000000000000000 \n",
            "\tEpoch 8. [Error, Accuracy]: 0.009643769823015, 1.000000000000000 \n",
            "\tEpoch 9. [Error, Accuracy]: 0.007555872201920, 1.000000000000000 \n",
            "\tEpoch 10. [Error, Accuracy]: 0.070376977324486, 1.000000000000000 \n"
          ]
        }
      ]
    },
    {
      "cell_type": "markdown",
      "metadata": {
        "id": "86j4nyJsenJf"
      },
      "source": [
        "**Training graphic:**"
      ]
    },
    {
      "cell_type": "code",
      "metadata": {
        "id": "GTIvVk8ea7mw",
        "colab": {
          "base_uri": "https://localhost:8080/",
          "height": 296
        },
        "outputId": "7c2cc380-c705-47ac-99f3-b1944afd0cf1"
      },
      "source": [
        "print(\"Ploting training loss ...\")\n",
        "plt.plot(errLoss, label=\"Err\")\n",
        "plt.plot(accLoss, label=\"Acc\")\n",
        "plt.xlim([0, len(errLoss)-1])\n",
        "plt.legend(loc='upper right')\n",
        "plt.ylabel('Loss/Accuracy')\n",
        "plt.xlabel('Epochs')\n",
        "plt.margins(0.5, 0.5)\n",
        "plt.show()"
      ],
      "execution_count": 10,
      "outputs": [
        {
          "output_type": "stream",
          "name": "stdout",
          "text": [
            "Ploting training loss ...\n"
          ]
        },
        {
          "output_type": "display_data",
          "data": {
            "image/png": "[encoded data removed]",
            "text/plain": [
              "<Figure size 432x288 with 1 Axes>"
            ]
          },
          "metadata": {
            "needs_background": "light"
          }
        }
      ]
    },
    {
      "cell_type": "markdown",
      "metadata": {
        "id": "qJ8i2kiFe02U"
      },
      "source": [
        "**Testing the model:**"
      ]
    },
    {
      "cell_type": "code",
      "metadata": {
        "id": "7CBw60vrbhfc",
        "colab": {
          "base_uri": "https://localhost:8080/"
        },
        "outputId": "b64dafde-ed85-4448-d4dc-8ec09517d67b"
      },
      "source": [
        "print(\"Testing the model ...\")\n",
        "acc = model.evaluate(Xtest, Ytest, batch_size=batchSize)\n",
        "#print(model.metrics_names)\n",
        "print(\"\\tTop-1 Accuracy: %f\" % acc[1])"
      ],
      "execution_count": 11,
      "outputs": [
        {
          "output_type": "stream",
          "name": "stdout",
          "text": [
            "Testing the model ...\n",
            "16/16 [==============================] - 5s 252ms/step - loss: 2.0137 - accuracy: 0.5740\n",
            "\tTop-1 Accuracy: 0.574000\n"
          ]
        }
      ]
    }
  ]
}