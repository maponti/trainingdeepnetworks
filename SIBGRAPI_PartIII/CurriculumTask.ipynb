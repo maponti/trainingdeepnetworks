{
  "nbformat": 4,
  "nbformat_minor": 0,
  "metadata": {
    "colab": {
      "name": "CurriculumTask.ipynb",
      "provenance": []
    },
    "kernelspec": {
      "name": "python3",
      "display_name": "Python 3"
    },
    "accelerator": "GPU"
  },
  "cells": [
    {
      "cell_type": "markdown",
      "metadata": {
        "id": "P_iP73y2mCMQ"
      },
      "source": [
        "# AutoEncoder to initialize weights for supervised deep network\n",
        "\n",
        "Before starting the code execution, make the following change: **Ambiente de execução -> Alterar o tipo de ambiente de execução -> GPU**"
      ]
    },
    {
      "cell_type": "code",
      "metadata": {
        "id": "24WOZMWukEmQ"
      },
      "source": [
        "import numpy as np\n",
        "from PIL import Image\n",
        "\n",
        "from keras.models import Model, Sequential\n",
        "from tensorflow.keras.layers import Input, Conv2D, MaxPooling2D, Flatten, Reshape, UpSampling2D, Conv2DTranspose, Dense\n",
        "from tensorflow.keras.models import load_model\n",
        "from keras.datasets import cifar10\n",
        "from tensorflow.keras.utils import to_categorical\n",
        "\n",
        "import matplotlib.pyplot as plt"
      ],
      "execution_count": 13,
      "outputs": []
    },
    {
      "cell_type": "markdown",
      "metadata": {
        "id": "6XMcnDsymP6H"
      },
      "source": [
        "**Parameters definition:**"
      ]
    },
    {
      "cell_type": "code",
      "metadata": {
        "id": "7Nwz3YkPk_HZ"
      },
      "source": [
        "batchSize = 32\n",
        "numberEpochs = 10\n",
        "numberClasses = 10"
      ],
      "execution_count": 14,
      "outputs": []
    },
    {
      "cell_type": "markdown",
      "metadata": {
        "id": "aBny283omTCI"
      },
      "source": [
        "**lowSampleDataset(X,Y)** function just reduces the number of examples so that the execution is faster in our example!"
      ]
    },
    {
      "cell_type": "code",
      "metadata": {
        "id": "q3t85naGkU2L"
      },
      "source": [
        "def lowSampleDataset(X, Y):\n",
        "    perm = np.random.permutation(X.shape[0])\n",
        "    X = X[perm[0 : (int)(X.shape[0] * (5/100))]]\n",
        "    Y = Y[perm[0 : (int)(Y.shape[0] * (5/100))]]\n",
        "    return X, Y"
      ],
      "execution_count": 15,
      "outputs": []
    },
    {
      "cell_type": "markdown",
      "metadata": {
        "id": "Dlb9MhRTmVE6"
      },
      "source": [
        "**Pre-processing:**\n",
        "\n",
        "1.   Load CIFAR10 dataset\n",
        "2.   Reduce the number of examples\n",
        "1.   Change the resolution of the examples\n",
        "\n",
        "\n"
      ]
    },
    {
      "cell_type": "code",
      "metadata": {
        "id": "3f8teqaqkYAd",
        "colab": {
          "base_uri": "https://localhost:8080/"
        },
        "outputId": "4394ae2d-0df8-4ee4-99c0-a3394c5f8416"
      },
      "source": [
        "print(\"Loading CIFAR10 images ...\")\n",
        "(Xtrain, Ytrain), (Xtest, Ytest) = cifar10.load_data()\n",
        "\n",
        "Xtrain, Ytrain = lowSampleDataset(Xtrain, Ytrain)\n",
        "Xtest, Ytest = lowSampleDataset(Xtest, Ytest)\n",
        "\n",
        "Ytrain = to_categorical(Ytrain)\n",
        "\n",
        "print('\\tTraining set shape: ', Xtrain.shape)\n",
        "print('\\tTesting set shape: ', Xtest.shape)"
      ],
      "execution_count": 16,
      "outputs": [
        {
          "output_type": "stream",
          "name": "stdout",
          "text": [
            "Loading CIFAR10 images ...\n",
            "\tTraining set shape:  (2500, 32, 32, 3)\n",
            "\tTesting set shape:  (500, 32, 32, 3)\n"
          ]
        }
      ]
    },
    {
      "cell_type": "markdown",
      "metadata": {
        "id": "VOS3oM12mkav"
      },
      "source": [
        "**Preparing the AutoEncoder:**\n",
        "\n",
        "1.   Define the architecture structure\n",
        "2.   Define the loss function and optimizer\n"
      ]
    },
    {
      "cell_type": "code",
      "metadata": {
        "id": "tziFfwmNkfmY",
        "colab": {
          "base_uri": "https://localhost:8080/"
        },
        "outputId": "e087f8ff-8b30-4a10-9ef1-81987822c2c0"
      },
      "source": [
        "print(\"Defining the AE ...\")\n",
        "input_img = Input(shape=(32, 32, 3,))\n",
        "\n",
        "encoder = Conv2D(8, kernel_size=(3,3), strides=(2, 2), padding='same', activation='relu')(input_img)\n",
        "encoder = Conv2D(8, kernel_size=(3,3), padding='valid', activation='relu')(encoder)\n",
        "encoder = MaxPooling2D(pool_size=(2, 2))(encoder)\n",
        "encoder = Flatten(name='code')(encoder)\n",
        "\n",
        "decoder = Reshape((7,7,8))(encoder)\n",
        "decoder = UpSampling2D((2,2))(decoder)\n",
        "decoder = Conv2DTranspose(8, kernel_size=(3,3), padding='valid', activation='relu')(decoder)\n",
        "decoder = Conv2DTranspose(3, kernel_size=(3,3), strides=(2, 2), padding='same', activation='relu')(decoder)\n",
        "\n",
        "autoencoder = Model(input_img, decoder)\n",
        "autoencoder.compile(loss='mean_squared_error', optimizer='adam')\n",
        "autoencoder.summary()"
      ],
      "execution_count": 17,
      "outputs": [
        {
          "output_type": "stream",
          "name": "stdout",
          "text": [
            "Defining the AE ...\n",
            "Model: \"model_5\"\n",
            "_________________________________________________________________\n",
            "Layer (type)                 Output Shape              Param #   \n",
            "=================================================================\n",
            "input_2 (InputLayer)         [(None, 32, 32, 3)]       0         \n",
            "_________________________________________________________________\n",
            "conv2d_2 (Conv2D)            (None, 16, 16, 8)         224       \n",
            "_________________________________________________________________\n",
            "conv2d_3 (Conv2D)            (None, 14, 14, 8)         584       \n",
            "_________________________________________________________________\n",
            "max_pooling2d_1 (MaxPooling2 (None, 7, 7, 8)           0         \n",
            "_________________________________________________________________\n",
            "code (Flatten)               (None, 392)               0         \n",
            "_________________________________________________________________\n",
            "reshape_1 (Reshape)          (None, 7, 7, 8)           0         \n",
            "_________________________________________________________________\n",
            "up_sampling2d_1 (UpSampling2 (None, 14, 14, 8)         0         \n",
            "_________________________________________________________________\n",
            "conv2d_transpose_2 (Conv2DTr (None, 16, 16, 8)         584       \n",
            "_________________________________________________________________\n",
            "conv2d_transpose_3 (Conv2DTr (None, 32, 32, 3)         219       \n",
            "=================================================================\n",
            "Total params: 1,611\n",
            "Trainable params: 1,611\n",
            "Non-trainable params: 0\n",
            "_________________________________________________________________\n"
          ]
        }
      ]
    },
    {
      "cell_type": "markdown",
      "metadata": {
        "id": "F8K4M1ENmz_o"
      },
      "source": [
        "**AutoEncoder training:**"
      ]
    },
    {
      "cell_type": "code",
      "metadata": {
        "id": "pT37QXLGkm4q",
        "colab": {
          "base_uri": "https://localhost:8080/",
          "height": 618
        },
        "outputId": "aa8a35ac-1041-449f-dd3c-70dce82485fc"
      },
      "source": [
        "print(\"Training the AE ...\")\n",
        "historyAE = autoencoder.fit(x=Xtrain, y=Xtrain, batch_size=batchSize, epochs=numberEpochs, shuffle=True, verbose=1)\n",
        "\n",
        "plt.plot(historyAE.history['loss'])\n",
        "plt.ylabel('Loss')\n",
        "plt.legend(['AE'], loc='upper right')\n",
        "plt.show()"
      ],
      "execution_count": 18,
      "outputs": [
        {
          "output_type": "stream",
          "name": "stdout",
          "text": [
            "Training the AE ...\n",
            "Epoch 1/10\n",
            "79/79 [==============================] - 1s 5ms/step - loss: 10646.2549\n",
            "Epoch 2/10\n",
            "79/79 [==============================] - 0s 5ms/step - loss: 3604.7583\n",
            "Epoch 3/10\n",
            "79/79 [==============================] - 0s 5ms/step - loss: 1394.4449\n",
            "Epoch 4/10\n",
            "79/79 [==============================] - 0s 5ms/step - loss: 1166.9661\n",
            "Epoch 5/10\n",
            "79/79 [==============================] - 0s 5ms/step - loss: 1040.4517\n",
            "Epoch 6/10\n",
            "79/79 [==============================] - 0s 5ms/step - loss: 912.2008\n",
            "Epoch 7/10\n",
            "79/79 [==============================] - 0s 5ms/step - loss: 836.9224\n",
            "Epoch 8/10\n",
            "79/79 [==============================] - 0s 5ms/step - loss: 789.7896\n",
            "Epoch 9/10\n",
            "79/79 [==============================] - 0s 5ms/step - loss: 754.2484\n",
            "Epoch 10/10\n",
            "79/79 [==============================] - 0s 5ms/step - loss: 727.9525\n"
          ]
        },
        {
          "output_type": "display_data",
          "data": {
            "image/png": "[encoded data removed]",
            "text/plain": [
              "<Figure size 432x288 with 1 Axes>"
            ]
          },
          "metadata": {
            "needs_background": "light"
          }
        }
      ]
    },
    {
      "cell_type": "markdown",
      "metadata": {
        "id": "Im--NaW-m-yy"
      },
      "source": [
        "**Preparing the network for fine-tuning (Curriculum Learning using different tasks):**\n",
        "\n",
        "1.   Load the pre-trained model\n",
        "2.   Add the desired layers (the prediction layer must have the same number of classes from the target dataset)\n",
        "1.   Define the loss function and optimizer"
      ]
    },
    {
      "cell_type": "code",
      "metadata": {
        "id": "mA1InDheku8w",
        "colab": {
          "base_uri": "https://localhost:8080/",
          "height": 1000
        },
        "outputId": "5d8a08ce-b4ab-466f-9021-35437c22b699"
      },
      "source": [
        "print(\"Loading the ResNet50-ImageNet model\")\n",
        "\n",
        "cnn = Model(inputs=autoencoder.input, outputs=autoencoder.get_layer(name=\"code\").output)\n",
        "\n",
        "print(\"\\tAdding new layers to the model ...\")\n",
        "newTop = Sequential()\n",
        "newTop.add(Dense(numberClasses, activation='softmax', name='fc1000', input_shape=cnn.output_shape[1:]))\n",
        "\n",
        "print(\"\\tSet fine-tuning configuration...\")\n",
        "cnn = Model(inputs=cnn.input, outputs=newTop(cnn.output))\n",
        "\n",
        "#optimizer = SGD(lr=0.01, momentum=0.0001, decay=0.9)\n",
        "optimizer = 'adam'\n",
        "cnn.compile(loss='categorical_crossentropy', optimizer=optimizer, metrics=['accuracy'])\n",
        "cnn.summary()\n",
        "\n",
        "print(\"Training the CNN ...\")\n",
        "historyCNN = cnn.fit(x=Xtrain, y=Ytrain, batch_size=batchSize, epochs=numberEpochs, shuffle=True, verbose=1)\n",
        "\n",
        "plt.plot(historyCNN.history['loss'])\n",
        "plt.ylabel('Loss')\n",
        "plt.legend(['AE'], loc='upper right')\n",
        "plt.show()"
      ],
      "execution_count": 19,
      "outputs": [
        {
          "output_type": "stream",
          "name": "stdout",
          "text": [
            "Loading the ResNet50-ImageNet model\n",
            "\tAdding new layers to the model ...\n",
            "\tSet fine-tuning configuration...\n",
            "Model: \"model_7\"\n",
            "_________________________________________________________________\n",
            "Layer (type)                 Output Shape              Param #   \n",
            "=================================================================\n",
            "input_2 (InputLayer)         [(None, 32, 32, 3)]       0         \n",
            "_________________________________________________________________\n",
            "conv2d_2 (Conv2D)            (None, 16, 16, 8)         224       \n",
            "_________________________________________________________________\n",
            "conv2d_3 (Conv2D)            (None, 14, 14, 8)         584       \n",
            "_________________________________________________________________\n",
            "max_pooling2d_1 (MaxPooling2 (None, 7, 7, 8)           0         \n",
            "_________________________________________________________________\n",
            "code (Flatten)               (None, 392)               0         \n",
            "_________________________________________________________________\n",
            "sequential_2 (Sequential)    (None, 10)                3930      \n",
            "=================================================================\n",
            "Total params: 4,738\n",
            "Trainable params: 4,738\n",
            "Non-trainable params: 0\n",
            "_________________________________________________________________\n",
            "Training the CNN ...\n",
            "Epoch 1/10\n",
            "79/79 [==============================] - 1s 4ms/step - loss: 72.2356 - accuracy: 0.0956\n",
            "Epoch 2/10\n",
            "79/79 [==============================] - 0s 4ms/step - loss: 11.3137 - accuracy: 0.1212\n",
            "Epoch 3/10\n",
            "79/79 [==============================] - 0s 4ms/step - loss: 3.0775 - accuracy: 0.1360\n",
            "Epoch 4/10\n",
            "79/79 [==============================] - 0s 4ms/step - loss: 2.5443 - accuracy: 0.1228\n",
            "Epoch 5/10\n",
            "79/79 [==============================] - 0s 4ms/step - loss: 2.4209 - accuracy: 0.1236\n",
            "Epoch 6/10\n",
            "79/79 [==============================] - 0s 5ms/step - loss: 2.3710 - accuracy: 0.1220\n",
            "Epoch 7/10\n",
            "79/79 [==============================] - 0s 4ms/step - loss: 2.3451 - accuracy: 0.1204\n",
            "Epoch 8/10\n",
            "79/79 [==============================] - 0s 4ms/step - loss: 2.3296 - accuracy: 0.1196\n",
            "Epoch 9/10\n",
            "79/79 [==============================] - 0s 4ms/step - loss: 2.3219 - accuracy: 0.1204\n",
            "Epoch 10/10\n",
            "79/79 [==============================] - 0s 4ms/step - loss: 2.3171 - accuracy: 0.1208\n"
          ]
        },
        {
          "output_type": "display_data",
          "data": {
            "image/png": "[encoded data removed]",
            "text/plain": [
              "<Figure size 432x288 with 1 Axes>"
            ]
          },
          "metadata": {
            "needs_background": "light"
          }
        }
      ]
    }
  ]
}